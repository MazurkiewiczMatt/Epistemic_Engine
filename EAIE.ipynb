{
 "cells": [
  {
   "cell_type": "markdown",
   "metadata": {},
   "source": [
    "## Epistemic Artificial Intelligence Engine"
   ]
  },
  {
   "cell_type": "code",
   "execution_count": 3,
   "metadata": {},
   "outputs": [],
   "source": [
    "LinearAlgebra = {\n",
    "    'BranchOf': 'Mathematics',\n",
    "    'UsefulIn': ['MachineLearning'],\n",
    "}"
   ]
  },
  {
   "cell_type": "code",
   "execution_count": 4,
   "metadata": {},
   "outputs": [],
   "source": [
    "Numpy = {\n",
    "    'LibraryOf': 'Python',\n",
    "    'Requires': ['LinearAlgebra', 'Python'],\n",
    "    'UsefulIn': 'LinearAlgebra',\n",
    "}"
   ]
  },
  {
   "cell_type": "code",
   "execution_count": null,
   "metadata": {},
   "outputs": [],
   "source": [
    "SQL = {\n",
    "    'LanguageLevel': \"High\",\n",
    "    'Requires': ['SetTheory'],\n",
    "    'Description': 'SQL is used to extract data from a database, manipulate data, and create data pipelines — essentially, it’s important for almost every pre-analysis/pre-modeling stage in the data lifecycle.'\n",
    "}\n",
    "\n"
   ]
  }
 ],
 "metadata": {
  "kernelspec": {
   "display_name": "Python 3",
   "language": "python",
   "name": "python3"
  },
  "language_info": {
   "codemirror_mode": {
    "name": "ipython",
    "version": 3
   },
   "file_extension": ".py",
   "mimetype": "text/x-python",
   "name": "python",
   "nbconvert_exporter": "python",
   "pygments_lexer": "ipython3",
   "version": "3.8.9"
  }
 },
 "nbformat": 4,
 "nbformat_minor": 4
}
