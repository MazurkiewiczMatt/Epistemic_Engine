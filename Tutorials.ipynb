{
 "cells": [
  {
   "cell_type": "code",
   "execution_count": 1,
   "id": "461b7ed9",
   "metadata": {},
   "outputs": [],
   "source": [
    "Tutorial1 = {\n",
    "    \"Author\": \"CodeAcademy\",\n",
    "    \"Title\": \"LearnGit\",\n",
    "    \"TutorialOf\": \"Git\",\n",
    "    \"Link\": \"https://www.codecademy.com/learn/learn-git\",\n",
    "}"
   ]
  },
  {
   "cell_type": "code",
   "execution_count": 2,
   "id": "8ab07522",
   "metadata": {},
   "outputs": [],
   "source": [
    "Tutorial2 = {\n",
    "    \"Author\": \"MIT\",\n",
    "    \"Title\": \"Lecture 6: Version Control (git) (2020)\",\n",
    "    \"TutorialOf\": \"Git\",\n",
    "    \"Link\": \"https://www.youtube.com/watch?v=2sjqTHE0zok\",\n",
    "}"
   ]
  },
  {
   "cell_type": "code",
   "execution_count": 3,
   "id": "862efe13",
   "metadata": {},
   "outputs": [],
   "source": [
    "Tutorial3 = {\n",
    "    \"Author\": \"\",\n",
    "    \"Title\": \"LearnGitBranching\",\n",
    "    \"TutorialOf\": \"Git\",\n",
    "    \"Link\": \"https://learngitbranching.js.org/\", \n",
    "}"
   ]
  },
  {
   "cell_type": "code",
   "execution_count": 4,
   "id": "c44556cf",
   "metadata": {},
   "outputs": [],
   "source": [
    "Tutorial4 = {\n",
    "    \"Author\": \"\",\n",
    "    \"Title\": \"Docker for Beginners\",\n",
    "    \"TutorialOf\": \"Docker\",\n",
    "    \"Link\": \"https://docker-curriculum.com/\",\n",
    "}"
   ]
  },
  {
   "cell_type": "code",
   "execution_count": 5,
   "id": "d2782012",
   "metadata": {},
   "outputs": [],
   "source": [
    "Tutorial5 = {\n",
    "    \"Author\": \"\",\n",
    "    \"Title\": \"Docker for beginners: From Docker Desktop to Deployment\",\n",
    "    \"TutorialOf\": \"Docker\",\n",
    "    \"Link\": \"https://www.youtube.com/watch?v=i7ABlHngi1Q\",\n",
    "}"
   ]
  },
  {
   "cell_type": "code",
   "execution_count": 8,
   "id": "9da94a84",
   "metadata": {},
   "outputs": [],
   "source": [
    "Tutorial6 = {\n",
    "    \"Author\": \"\",\n",
    "    \"Title\": \"Deploying Docker Containers\",\n",
    "    \"TutorialOf\": \"Docker\",\n",
    "    \"Link\": \"https://docs.aws.amazon.com/AmazonECS/latest/userguide/docker-basics.html\",\n",
    "}"
   ]
  },
  {
   "cell_type": "code",
   "execution_count": 7,
   "id": "9bd8892e",
   "metadata": {},
   "outputs": [],
   "source": [
    "Tutorial7 = {\n",
    "    \"Author\": \"\",\n",
    "    \"Title\": \"Deploying Docker Containers\",\n",
    "    \"TutorialOf\": \"Docker\",\n",
    "    \"Link\": \"https://towardsdatascience.com/deploy-machine-learning-pipeline-on-cloud-using-docker-container-bec64458dc01\",\n",
    "    \n",
    "}"
   ]
  },
  {
   "cell_type": "code",
   "execution_count": null,
   "id": "f42e1dbb",
   "metadata": {},
   "outputs": [],
   "source": []
  }
 ],
 "metadata": {
  "kernelspec": {
   "display_name": "Python 3",
   "language": "python",
   "name": "python3"
  },
  "language_info": {
   "codemirror_mode": {
    "name": "ipython",
    "version": 3
   },
   "file_extension": ".py",
   "mimetype": "text/x-python",
   "name": "python",
   "nbconvert_exporter": "python",
   "pygments_lexer": "ipython3",
   "version": "3.8.9"
  }
 },
 "nbformat": 4,
 "nbformat_minor": 5
}
