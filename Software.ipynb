{
 "cells": [
  {
   "cell_type": "code",
   "execution_count": null,
   "metadata": {},
   "outputs": [],
   "source": [
    "Software = [Numpy, Git, Docker]"
   ]
  },
  {
   "cell_type": "code",
   "execution_count": 4,
   "metadata": {},
   "outputs": [],
   "source": [
    "Numpy = {\n",
    "    'ID': 'Numpy',\n",
    "    'LibraryOf': 'Python',\n",
    "    'Requires': ['LinearAlgebra', 'Python'],\n",
    "    'UsefulIn': 'LinearAlgebra',\n",
    "}"
   ]
  },
  {
   "cell_type": "code",
   "execution_count": 1,
   "metadata": {},
   "outputs": [],
   "source": [
    "Git = {\n",
    "    'ID': 'Git',\n",
    "    'Description': 'software for tracking changes in any set of files, usually used for coordinating work among programmers collaboratively developing source code during software development.',\n",
    "    'UsefulIn': ['SoftwareDevelopment', 'ProjectManagement'],\n",
    "}"
   ]
  },
  {
   "cell_type": "code",
   "execution_count": 3,
   "metadata": {},
   "outputs": [],
   "source": [
    "Docker = {\n",
    "    'ID': 'Docker',\n",
    "    'Description': \"Docker is a containerization platform that allows you to deploy and run applications, like machine learning models. It’s becoming increasingly important that data scientists not only know how to build models but how to deploy them as well. In fact, a lot of job postings are now requiring some experience in model deployment.\",\n",
    "    \"UsefulIn\": [\"ModelDeployment\", \"SoftwareDevelopment\"],\n",
    "}\n"
   ]
  },
  {
   "cell_type": "code",
   "execution_count": null,
   "metadata": {},
   "outputs": [],
   "source": []
  }
 ],
 "metadata": {
  "kernelspec": {
   "display_name": "Python 3",
   "language": "python",
   "name": "python3"
  },
  "language_info": {
   "codemirror_mode": {
    "name": "ipython",
    "version": 3
   },
   "file_extension": ".py",
   "mimetype": "text/x-python",
   "name": "python",
   "nbconvert_exporter": "python",
   "pygments_lexer": "ipython3",
   "version": "3.8.3"
  }
 },
 "nbformat": 4,
 "nbformat_minor": 4
}
