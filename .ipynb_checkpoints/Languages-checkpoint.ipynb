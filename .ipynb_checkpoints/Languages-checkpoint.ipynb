{
 "cells": [
  {
   "cell_type": "code",
   "execution_count": 3,
   "id": "21d4d25f",
   "metadata": {},
   "outputs": [],
   "source": [
    "SQL = {\n",
    "    'LanguageLevel': \"High\",\n",
    "    'Requires': ['SetTheory'],\n",
    "    'Description': 'SQL is used to extract data from a database, manipulate data, and create data pipelines — essentially, it’s important for almost every pre-analysis/pre-modeling stage in the data lifecycle. Writing efficient and scalable queries is becoming more and more important for companies that work with petabytes of data.'   \n",
    "}\n"
   ]
  },
  {
   "cell_type": "code",
   "execution_count": 2,
   "id": "06e65c2a",
   "metadata": {},
   "outputs": [],
   "source": [
    "Python = {\n",
    "    'LanguageLevel': 'High',\n",
    "    'Typing': 'Dynamic',\n",
    "    'FilenameExtension': '.py',\n",
    "}"
   ]
  },
  {
   "cell_type": "code",
   "execution_count": 6,
   "id": "d80ea229",
   "metadata": {},
   "outputs": [
    {
     "data": {
      "text/plain": [
       "dict_items([('LanguageLevel', 'High'), ('Typing', 'Dynamic'), ('FilenameExtension', '.py')])"
      ]
     },
     "execution_count": 6,
     "metadata": {},
     "output_type": "execute_result"
    }
   ],
   "source": []
  }
 ],
 "metadata": {
  "kernelspec": {
   "display_name": "Python 3",
   "language": "python",
   "name": "python3"
  },
  "language_info": {
   "codemirror_mode": {
    "name": "ipython",
    "version": 3
   },
   "file_extension": ".py",
   "mimetype": "text/x-python",
   "name": "python",
   "nbconvert_exporter": "python",
   "pygments_lexer": "ipython3",
   "version": "3.8.9"
  }
 },
 "nbformat": 4,
 "nbformat_minor": 5
}
