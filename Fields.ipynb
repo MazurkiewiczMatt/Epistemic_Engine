{
 "cells": [
  {
   "cell_type": "code",
   "execution_count": 20,
   "metadata": {},
   "outputs": [],
   "source": [
    "Fields = [LinearAlgebra, SignalProcessing, FourierTransform, Convolution, ControlTheory, ElectricalEngineering, SoftwareDevelopment, ComputerScience]"
   ]
  },
  {
   "cell_type": "code",
   "execution_count": 12,
   "metadata": {},
   "outputs": [],
   "source": [
    "LinearAlgebra = {\n",
    "    'ID': 'LinearAlgebra',\n",
    "    'BranchOf': 'Mathematics',\n",
    "    'UsefulIn': ['MachineLearning'],\n",
    "}"
   ]
  },
  {
   "cell_type": "code",
   "execution_count": 13,
   "metadata": {},
   "outputs": [],
   "source": [
    "SignalProcessing = {\n",
    "    'ID': 'SignalProcessing',\n",
    "    'BranchOf': 'ElectricalEngineering',\n",
    "    'UsefulIn': ['Communications', 'Vibrations', 'Sounds'],\n",
    "    'Requires': 'FourierTransform',\n",
    "}"
   ]
  },
  {
   "cell_type": "code",
   "execution_count": 14,
   "metadata": {},
   "outputs": [],
   "source": [
    "FourierTransform = {\n",
    "    'ID': 'FourierTransform',\n",
    "    'BranchOf': 'Mathematics',\n",
    "    'UsefulIn': ['Convolution', 'SignalProcessing'],\n",
    "}"
   ]
  },
  {
   "cell_type": "code",
   "execution_count": 15,
   "metadata": {},
   "outputs": [],
   "source": [
    "Convolution = {\n",
    "    'ID': 'Convolution',\n",
    "    'BranchOf': 'Mathematics',\n",
    "    'UsefulIn': ['Probability', 'ControlTheory', 'SignalProcessing'],\n",
    "}"
   ]
  },
  {
   "cell_type": "code",
   "execution_count": 16,
   "metadata": {},
   "outputs": [
    {
     "ename": "SyntaxError",
     "evalue": "invalid syntax (<ipython-input-16-521d678f4b22>, line 4)",
     "output_type": "error",
     "traceback": [
      "\u001b[1;36m  File \u001b[1;32m\"<ipython-input-16-521d678f4b22>\"\u001b[1;36m, line \u001b[1;32m4\u001b[0m\n\u001b[1;33m    }\u001b[0m\n\u001b[1;37m    ^\u001b[0m\n\u001b[1;31mSyntaxError\u001b[0m\u001b[1;31m:\u001b[0m invalid syntax\n"
     ]
    }
   ],
   "source": [
    "ControlTheory = {\n",
    "    'ID': 'ControlTheory',\n",
    "    'BranchOf': 'Engineering',\n",
    "    'UsefulIn' ['Robotics']\n",
    "}"
   ]
  },
  {
   "cell_type": "code",
   "execution_count": 17,
   "metadata": {},
   "outputs": [],
   "source": [
    "ElectricalEngineering = {\n",
    "    'ID': 'ElectricalEngineering',\n",
    "    'BranchOf': 'Engineering',\n",
    "}"
   ]
  },
  {
   "cell_type": "code",
   "execution_count": 18,
   "metadata": {},
   "outputs": [],
   "source": [
    "SoftwareDevelopment = {\n",
    "    'ID': 'SoftwareDevelopment',\n",
    "    'BranchOf': 'Engineering',\n",
    "}"
   ]
  },
  {
   "cell_type": "code",
   "execution_count": 19,
   "metadata": {},
   "outputs": [],
   "source": [
    "ComputerScience = {\n",
    "    'ID': 'ComputerScience',\n",
    "    'BranchOf': 'Science',\n",
    "    'UsefulIn': 'SoftwareDevelopment'\n",
    "}"
   ]
  },
  {
   "cell_type": "code",
   "execution_count": null,
   "metadata": {},
   "outputs": [],
   "source": []
  }
 ],
 "metadata": {
  "kernelspec": {
   "display_name": "Python 3",
   "language": "python",
   "name": "python3"
  },
  "language_info": {
   "codemirror_mode": {
    "name": "ipython",
    "version": 3
   },
   "file_extension": ".py",
   "mimetype": "text/x-python",
   "name": "python",
   "nbconvert_exporter": "python",
   "pygments_lexer": "ipython3",
   "version": "3.8.3"
  }
 },
 "nbformat": 4,
 "nbformat_minor": 4
}
