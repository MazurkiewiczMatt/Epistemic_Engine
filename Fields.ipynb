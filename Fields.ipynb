{
 "cells": [
  {
   "cell_type": "code",
   "execution_count": 1,
   "metadata": {},
   "outputs": [],
   "source": [
    "LinearAlgebra = {\n",
    "    'BranchOf': 'Mathematics',\n",
    "    'UsefulIn': ['MachineLearning'],\n",
    "}"
   ]
  },
  {
   "cell_type": "code",
   "execution_count": 4,
   "metadata": {},
   "outputs": [],
   "source": [
    "SignalProcessing = {\n",
    "    'BranchOf': 'ElectricalEngineering',\n",
    "    'UsefulIn': ['Communications', 'Vibrations', 'Sounds'],\n",
    "    'Requires': 'FourierTransform',\n",
    "}"
   ]
  },
  {
   "cell_type": "code",
   "execution_count": 5,
   "metadata": {},
   "outputs": [],
   "source": [
    "FourierTransform = {\n",
    "    'BranchOf': 'Mathematics',\n",
    "    'UsefulIn': ['Convolution', 'SignalProcessing'],\n",
    "}"
   ]
  },
  {
   "cell_type": "code",
   "execution_count": 6,
   "metadata": {},
   "outputs": [],
   "source": [
    "Convolution = {\n",
    "    'BranchOf': 'Mathematics',\n",
    "    'UsefulIn': ['Probability', 'ControlTheory', 'SignalProcessing'],\n",
    "}"
   ]
  },
  {
   "cell_type": "code",
   "execution_count": 7,
   "metadata": {},
   "outputs": [],
   "source": [
    "ControlTheory = {\n",
    "    'BranchOf': 'Engineering',\n",
    "    'UsefulIn' ['Robotics']\n",
    "}"
   ]
  },
  {
   "cell_type": "code",
   "execution_count": null,
   "metadata": {},
   "outputs": [],
   "source": [
    "ElectricalEngineering = {\n",
    "    'BranchOf': 'Engineering',\n",
    "}"
   ]
  },
  {
   "cell_type": "code",
   "execution_count": 8,
   "metadata": {},
   "outputs": [],
   "source": [
    "SoftwareDevelopment = {\n",
    "    'BranchOf': 'Engineering',\n",
    "}"
   ]
  },
  {
   "cell_type": "code",
   "execution_count": 9,
   "metadata": {},
   "outputs": [],
   "source": [
    "ComputerScience = {\n",
    "    'BranchOf': 'Science',\n",
    "    'UsefulIn': 'SoftwareDevelopment'\n",
    "}"
   ]
  },
  {
   "cell_type": "code",
   "execution_count": null,
   "metadata": {},
   "outputs": [],
   "source": []
  }
 ],
 "metadata": {
  "kernelspec": {
   "display_name": "Python 3",
   "language": "python",
   "name": "python3"
  },
  "language_info": {
   "codemirror_mode": {
    "name": "ipython",
    "version": 3
   },
   "file_extension": ".py",
   "mimetype": "text/x-python",
   "name": "python",
   "nbconvert_exporter": "python",
   "pygments_lexer": "ipython3",
   "version": "3.8.3"
  }
 },
 "nbformat": 4,
 "nbformat_minor": 4
}
